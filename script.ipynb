{
 "cells": [
  {
   "cell_type": "code",
   "execution_count": 127,
   "metadata": {},
   "outputs": [],
   "source": [
    "import json\n",
    "import random\n",
    "from tqdm import tqdm\n",
    "import requests\n",
    "import os\n",
    "import datetime\n",
    "import time\n",
    "import collections\n",
    "import seaborn as sns\n",
    "import matplotlib.pyplot as plt\n",
    "% matplotlib inline"
   ]
  },
  {
   "cell_type": "code",
   "execution_count": 4,
   "metadata": {},
   "outputs": [],
   "source": [
    "def get_sdk_data(out_file):\n",
    "\n",
    "    spath = '/data/home/wangyuliang/work/samples_requests/samples/forsms_samples.txt'\n",
    "    url = 'http://service-oceanus.apps.intra.yongqianbao.com/get_device_snapshot_by_identity/'\n",
    "    ##'http://service.oceanus.svc:8000/get_device_snapshot_by_identity/' if os.getenv('KUBERNETES_PORT_443_TCP_ADDR') else \n",
    "    with open(out_file, 'w') as out:\n",
    "        with open(spath) as fd:\n",
    "            for n, line in enumerate(fd):\n",
    "                if n >= 1000:\n",
    "                    break\n",
    "                line = line.strip().split(',')\n",
    "                cid = line[0]\n",
    "                Id = line[1]\n",
    "                label = line[-1]\n",
    "                ctime = line[-2]\n",
    "                params = {'identity_card_num': Id, 'search_type': 'sms'}\n",
    "                st = datetime.datetime.strptime(ctime, \"%Y-%m-%d %H:%M:%S\") - datetime.timedelta(days=30)\n",
    "                params['start_timestamp'] = str(int(time.mktime(st.timetuple())) * 1000 + int(st.microsecond / 1000) + 1)\n",
    "                et = datetime.datetime.strptime(ctime, \"%Y-%m-%d %H:%M:%S\") + datetime.timedelta(minutes=15)\n",
    "                params['end_timestamp'] = str(int(time.mktime(et.timetuple())) * 1000 + int(et.microsecond / 1000) + 1)\n",
    "                data = requests.post(url, json=params, timeout=5).json()\n",
    "                ret['result_dict'] = data['result_dict']\n",
    "                ret['cid'] = cid\n",
    "                ret['label'] = label\n",
    "                out.write(json.dumps(ret)+'\\n')\n",
    "\n",
    "get_sdk_data('origin_data/origin_sms.txt')"
   ]
  },
  {
   "cell_type": "code",
   "execution_count": 9,
   "metadata": {},
   "outputs": [
    {
     "name": "stdout",
     "output_type": "stream",
     "text": [
      "notnull 643\n",
      "more1 30\n",
      "defaultdict(<type 'int'>, {2: 27, 3: 3})\n"
     ]
    }
   ],
   "source": [
    "with open('origin_data/test_sms.txt') as fd:\n",
    "    notnull = 0\n",
    "    more1 = 0\n",
    "    dic = collections.defaultdict(int)\n",
    "    for line in fd:\n",
    "        data = json.loads(line)\n",
    "        for it in data:\n",
    "            if it not in ['cid', 'label'] and data[it] != {}:\n",
    "                notnull += 1\n",
    "        keys = list(data.keys())\n",
    "        keys.remove('cid')\n",
    "        keys.remove('label')\n",
    "        if len(keys) > 1:\n",
    "            more1 += 1\n",
    "            dic[len(keys)] += 1\n",
    "print 'notnull', notnull\n",
    "print 'more1', more1\n",
    "print dic"
   ]
  },
  {
   "cell_type": "code",
   "execution_count": 86,
   "metadata": {},
   "outputs": [
    {
     "name": "stdout",
     "output_type": "stream",
     "text": [
      "hc_53979fa0-1863-11e9-b2ee-00163e1020bd\n",
      "hc_346eed22-186d-11e9-8f55-00163e1008da\n",
      "hc_5ae724fe-186f-11e9-8c44-00163e10728e\n"
     ]
    }
   ],
   "source": [
    "with open('origin_data/test_sms.txt') as fd:\n",
    "    less200 = 0\n",
    "    smslen = []\n",
    "    datelen = []\n",
    "    for line in fd:\n",
    "        ret = json.loads(line)\n",
    "        data = ret['result_dict'] if 'result_dict' in ret else ret\n",
    "        deviceid = data.keys()\n",
    "        if 'cid' in deviceid: deviceid.remove('cid')\n",
    "        if 'label' in deviceid: deviceid.remove('label')\n",
    "        cnt = 0\n",
    "        for did in deviceid:\n",
    "            if data[did] != {}:\n",
    "                diff = data[did]['Sms']['diff']\n",
    "                snap = data[did]['Sms']['snapshot']\n",
    "                mind = 0;maxd = 0\n",
    "                smsdate = []\n",
    "                for it in diff.values():\n",
    "                    if it[1] != None:\n",
    "                        for slist in it[1]:\n",
    "                            tdic = slist[1]\n",
    "                            if tdic['type'] == 2:\n",
    "                                continue\n",
    "                            smsdate.append(tdic['sending_time'])\n",
    "                if snap == None:\n",
    "                    continue\n",
    "                for it in snap['data']:\n",
    "                    if it['type'] == 2:\n",
    "                        continue\n",
    "                    smsdate.append(it['sending_time'])\n",
    "                timestamps = sorted(smsdate, reverse=True)\n",
    "                \n",
    "                if timestamps and len(timestamps) >= 200:\n",
    "                    cnt += 1\n",
    "                    datelen.append((timestamps[0]-timestamps[199])/86400000.0)\n",
    "                    if (timestamps[0]-timestamps[199])/86400000.0 < 4:\n",
    "                        print ret['cid']\n",
    "                        break"
   ]
  },
  {
   "cell_type": "code",
   "execution_count": 24,
   "metadata": {},
   "outputs": [
    {
     "name": "stdout",
     "output_type": "stream",
     "text": [
      "314 340764 601\n",
      "[0, 0, 0, 0, 0, 0, 0, 0, 0, 0] [1059, 1267, 1368, 1369, 1420, 1420, 1470, 1556, 1613, 1772]\n",
      "[0, 0, 0, 0, 0, 0, 0, 0, 0, 0] [1219, 1267, 1274, 1284, 1338, 1361, 1452, 1460, 2308, 3301]\n"
     ]
    }
   ],
   "source": [
    "print less200, len(smslen), len(datelen)\n",
    "print sorted(smslen)[:10], sorted(smslen)[-10:]\n",
    "print sorted(datelen)[:10], sorted(datelen)[-10:]"
   ]
  },
  {
   "cell_type": "code",
   "execution_count": 19,
   "metadata": {},
   "outputs": [],
   "source": [
    "datelen = [i/86400000 for i in datelen]"
   ]
  },
  {
   "cell_type": "code",
   "execution_count": 56,
   "metadata": {},
   "outputs": [
    {
     "data": {
      "text/plain": [
       "<matplotlib.axes._subplots.AxesSubplot at 0x7f5be17ec910>"
      ]
     },
     "execution_count": 56,
     "metadata": {},
     "output_type": "execute_result"
    },
    {
     "data": {
      "image/png": "[encoded data removed]",
      "text/plain": [
       "<matplotlib.figure.Figure at 0x7f5be1804c90>"
      ]
     },
     "metadata": {},
     "output_type": "display_data"
    }
   ],
   "source": [
    "sns.distplot(datelen[:100], rug=True)"
   ]
  },
  {
   "cell_type": "code",
   "execution_count": 38,
   "metadata": {},
   "outputs": [
    {
     "data": {
      "text/plain": [
       "(array([  16384.,    8323.,    8224.,   44939.,  117714.,   59129.,\n",
       "          16965.,   12946.,   12968.,   12408.]),\n",
       " array([   0. ,   13.3,   26.6,   39.9,   53.2,   66.5,   79.8,   93.1,\n",
       "         106.4,  119.7,  133. ]),\n",
       " <a list of 10 Patch objects>)"
      ]
     },
     "execution_count": 38,
     "metadata": {},
     "output_type": "execute_result"
    },
    {
     "data": {
      "image/png": "[encoded data removed]",
      "text/plain": [
       "<matplotlib.figure.Figure at 0x7f5be5439610>"
      ]
     },
     "metadata": {},
     "output_type": "display_data"
    }
   ],
   "source": [
    "plt.hist(smslen[:310000])"
   ]
  },
  {
   "cell_type": "code",
   "execution_count": 27,
   "metadata": {},
   "outputs": [],
   "source": [
    "smslen.sort()\n",
    "datelen.sort()"
   ]
  },
  {
   "cell_type": "code",
   "execution_count": 80,
   "metadata": {},
   "outputs": [
    {
     "data": {
      "text/plain": [
       "303"
      ]
     },
     "execution_count": 80,
     "metadata": {},
     "output_type": "execute_result"
    }
   ],
   "source": [
    "len(datelen)"
   ]
  },
  {
   "cell_type": "code",
   "execution_count": 81,
   "metadata": {},
   "outputs": [
    {
     "data": {
      "text/plain": [
       "(array([ 275.,   19.,    4.,    0.,    0.,    1.,    1.,    1.,    0.,    2.]),\n",
       " array([    3.03192384,   140.02273419,   277.01354455,   414.0043549 ,\n",
       "          550.99516525,   687.9859756 ,   824.97678595,   961.96759631,\n",
       "         1098.95840666,  1235.94921701,  1372.94002736]),\n",
       " <a list of 10 Patch objects>)"
      ]
     },
     "execution_count": 81,
     "metadata": {},
     "output_type": "execute_result"
    },
    {
     "data": {
      "image/png": "[encoded data removed]",
      "text/plain": [
       "<matplotlib.figure.Figure at 0x7f5bdf9fc990>"
      ]
     },
     "metadata": {},
     "output_type": "display_data"
    }
   ],
   "source": [
    "plt.hist(datelen)"
   ]
  },
  {
   "cell_type": "markdown",
   "metadata": {},
   "source": [
    "## 生成训练集，验证集，测试集"
   ]
  },
  {
   "cell_type": "code",
   "execution_count": 126,
   "metadata": {},
   "outputs": [
    {
     "name": "stderr",
     "output_type": "stream",
     "text": [
      " 27%|██▋       | 34430/128313 [04:37<12:36, 124.13it/s]\n"
     ]
    }
   ],
   "source": [
    "try:\n",
    "    tbar = tqdm(total=128313)\n",
    "    fpath = 'origin_data/added_pos_sms.txt'\n",
    "    train_out_path = 'origin_data/train_sms.txt'\n",
    "#    vali_out_path = 'origin_data/vali_sms.txt'\n",
    "#    test_out_path = 'origin_data/test_sms.txt'\n",
    "    out_tr = open(train_out_path, 'a')\n",
    "#    out_te = open(test_out_path, 'w')\n",
    "#    out_va = open(vali_out_path, 'w')\n",
    "\n",
    "    no_sms = 0\n",
    "    len_less5 = 0\n",
    "    day_less1 = 0\n",
    "    sms_seqlen = {}\n",
    "    sms_textlen = {}\n",
    "    sms_timegap = {}\n",
    "    with open(fpath) as fd:\n",
    "        for line in fd:\n",
    "            data = json.loads(line)\n",
    "            ret = data['result_dict']\n",
    "            sms_dict = {}\n",
    "            for did in ret:\n",
    "                if ret[did] == {}:\n",
    "                    continue\n",
    "                diff = ret[did]['Sms']['diff']\n",
    "                snap = ret[did]['Sms']['snapshot']\n",
    "                for ts in diff.values():\n",
    "                    if ts[1] != None:\n",
    "                        for slist in ts[1]:\n",
    "                            it = slist[1]\n",
    "                            if it['type'] == 2:\n",
    "                                continue\n",
    "                            sms_dict[it['sending_time']] = it['content']\n",
    "                if snap == None:\n",
    "                    continue\n",
    "                for it in snap['data']:\n",
    "                    if it['type'] == 2:\n",
    "                        continue\n",
    "                    sms_dict[it['sending_time']] = it['content']\n",
    "            if sms_dict == {}:\n",
    "                no_sms += 1\n",
    "                continue\n",
    "            keys = sorted(sms_dict.keys(), reverse=True)\n",
    "\n",
    "            if len(keys) < 5:          ##  要求短信序列长度 > 5\n",
    "                len_less5 += 1\n",
    "                continue\n",
    "            if keys[0] - keys[-1] < 86400000:       ##  要求序列时间跨度 > 1天\n",
    "                day_less1 += 1\n",
    "                continue\n",
    "            cnt = 0\n",
    "            filted_sms = {}\n",
    "            sms_textlen[data['cid']] = []\n",
    "            for k in keys:\n",
    "                if cnt > 199: break\n",
    "                text = sms_dict[k]\n",
    "                if len(text) < 10:               ## 文本长度 > 10\n",
    "                    continue\n",
    "                filted_sms[k] = text[:128]       ##  文本长度  <=  128\n",
    "                sms_textlen[data['cid']].append(len(filted_sms[k]))\n",
    "                cnt += 1\n",
    "            if len(filted_sms) < 5 or (keys[0] - keys[cnt-1]) / 86400000.0  > 365:      ##  要求短信序列长度 > 5 and 序列时间跨度 < 365天\n",
    "                sms_textlen.pop(data['cid'])\n",
    "                continue\n",
    "\n",
    "            sms_seqlen[data['cid']] = cnt\n",
    "            sms_timegap[data['cid']] = (keys[0] - keys[cnt-1]) / 86400000.0\n",
    "            out_res = {'label': data['label'], 'cid': data['cid'], 'result_dict': filted_sms}\n",
    "            out_tr.write(json.dumps(out_res)+'\\n')\n",
    "#            p = random.random()\n",
    "#            if p < 0.05:\n",
    "#                out_te.write(json.dumps(out_res)+'\\n')\n",
    "#            elif p < 0.1:\n",
    "#                out_va.write(json.dumps(out_res)+'\\n')\n",
    "#            else:\n",
    "#                out_tr.write(json.dumps(out_res)+'\\n')\n",
    "            tbar.update()\n",
    "    tbar.close()\n",
    "    out_tr.close()\n",
    "#    out_te.close()\n",
    "#    out_va.close()\n",
    "except KeyboardInterrupt:\n",
    "    tbar.close()\n",
    "    raise"
   ]
  },
  {
   "cell_type": "code",
   "execution_count": 14,
   "metadata": {},
   "outputs": [
    {
     "name": "stdout",
     "output_type": "stream",
     "text": [
      "num of no sms data 49527\n",
      "num of day less than 1 2095\n",
      "num of length less than 5 3367\n",
      "num of sms data 69475\n",
      "total num of sms 2501100\n"
     ]
    },
    {
     "data": {
      "text/plain": [
       "(array([ 26629.,  15095.,   9683.,   6649.,   4171.,   2603.,   1811.,\n",
       "          1163.,    941.,    730.]),\n",
       " array([  5.05115741e-04,   3.64966441e+01,   7.29927831e+01,\n",
       "          1.09488922e+02,   1.45985061e+02,   1.82481200e+02,\n",
       "          2.18977339e+02,   2.55473478e+02,   2.91969617e+02,\n",
       "          3.28465756e+02,   3.64961895e+02]),\n",
       " <a list of 10 Patch objects>)"
      ]
     },
     "execution_count": 14,
     "metadata": {},
     "output_type": "execute_result"
    },
    {
     "data": {
      "image/png": "[encoded data removed]",
      "text/plain": [
       "<matplotlib.figure.Figure at 0x7f6c9d18b850>"
      ]
     },
     "metadata": {},
     "output_type": "display_data"
    }
   ],
   "source": [
    "print 'num of no sms data', no_sms\n",
    "print 'num of day less than 1', day_less1\n",
    "print 'num of length less than 5', len_less5\n",
    "print 'num of sms data', len(sms_seqlen)\n",
    "plt.hist(sms_seqlen.values())\n",
    "length = [x for x in it for it in sms_textlen.values()]\n",
    "print 'total num of sms', len(length)\n",
    "plt.hist(length)\n",
    "plt.hist(sms_timegap.values())"
   ]
  },
  {
   "cell_type": "code",
   "execution_count": 6,
   "metadata": {},
   "outputs": [
    {
     "data": {
      "text/plain": [
       "(array([  9742.,   5847.,   4165.,   3032.,   2520.,   2077.,   1942.,\n",
       "          1631.,   1499.,  37020.]),\n",
       " array([   5. ,   24.5,   44. ,   63.5,   83. ,  102.5,  122. ,  141.5,\n",
       "         161. ,  180.5,  200. ]),\n",
       " <a list of 10 Patch objects>)"
      ]
     },
     "execution_count": 6,
     "metadata": {},
     "output_type": "execute_result"
    },
    {
     "data": {
      "image/png": "[encoded data removed]",
      "text/plain": [
       "<matplotlib.figure.Figure at 0x7f6caa169910>"
      ]
     },
     "metadata": {},
     "output_type": "display_data"
    }
   ],
   "source": [
    "plt.hist(sms_seqlen.values())"
   ]
  },
  {
   "cell_type": "code",
   "execution_count": 10,
   "metadata": {},
   "outputs": [
    {
     "name": "stdout",
     "output_type": "stream",
     "text": [
      "2501100\n"
     ]
    },
    {
     "data": {
      "text/plain": [
       "(array([ 486325.,  555800.,  416850.,   69475.,   69475.,  138950.,\n",
       "              0.,       0.,  347375.,  416850.]),\n",
       " array([  48.,   56.,   64.,   72.,   80.,   88.,   96.,  104.,  112.,\n",
       "         120.,  128.]),\n",
       " <a list of 10 Patch objects>)"
      ]
     },
     "execution_count": 10,
     "metadata": {},
     "output_type": "execute_result"
    },
    {
     "data": {
      "image/png": "[encoded data removed]",
      "text/plain": [
       "<matplotlib.figure.Figure at 0x7f6c9d3443d0>"
      ]
     },
     "metadata": {},
     "output_type": "display_data"
    }
   ],
   "source": [
    "length = [x for x in it for it in sms_textlen.values()]\n",
    "print len(length)\n",
    "plt.hist(length)"
   ]
  },
  {
   "cell_type": "code",
   "execution_count": 11,
   "metadata": {},
   "outputs": [
    {
     "data": {
      "text/plain": [
       "(array([ 26629.,  15095.,   9683.,   6649.,   4171.,   2603.,   1811.,\n",
       "          1163.,    941.,    730.]),\n",
       " array([  5.05115741e-04,   3.64966441e+01,   7.29927831e+01,\n",
       "          1.09488922e+02,   1.45985061e+02,   1.82481200e+02,\n",
       "          2.18977339e+02,   2.55473478e+02,   2.91969617e+02,\n",
       "          3.28465756e+02,   3.64961895e+02]),\n",
       " <a list of 10 Patch objects>)"
      ]
     },
     "execution_count": 11,
     "metadata": {},
     "output_type": "execute_result"
    },
    {
     "data": {
      "image/png": "[encoded data removed]",
      "text/plain": [
       "<matplotlib.figure.Figure at 0x7f6ca8416890>"
      ]
     },
     "metadata": {},
     "output_type": "display_data"
    }
   ],
   "source": [
    "plt.hist(sms_timegap.values())"
   ]
  },
  {
   "cell_type": "markdown",
   "metadata": {},
   "source": [
    "   ## 生成句向量，训练LSTM"
   ]
  },
  {
   "cell_type": "code",
   "execution_count": 128,
   "metadata": {},
   "outputs": [],
   "source": [
    "import torch\n",
    "import torch.nn as nn\n",
    "import torch.nn.functional as F\n",
    "from torch.autograd import Variable\n",
    "from torch.utils.tensorboard import SummaryWriter\n",
    "from torch import optim\n",
    "from bert_serving.client import BertClient\n",
    "from sklearn.metrics import roc_auc_score\n",
    "import numpy as np\n",
    "import pdb"
   ]
  },
  {
   "cell_type": "code",
   "execution_count": 125,
   "metadata": {},
   "outputs": [],
   "source": [
    "class BiLSTM(nn.Module):\n",
    "    def __init__(self, input_size, hidden_size, batch_size):\n",
    "        super(LSTM, self).__init__()\n",
    "        self.hidden_size = hidden_size\n",
    "        self.batch_size = batch_size\n",
    "        self.lstm = nn.LSTM(input_size, hidden_size, bidirectional=True)\n",
    "        self.linear = nn.Linear(hidden_size*2, 1)\n",
    "        self.sigmoid = nn.Sigmoid()\n",
    "        \n",
    "    def forward(self, input, input_length, hidden):\n",
    "        packed = nn.utils.rnn.pack_padded_sequence(input, input_length)\n",
    "        output, (hidden, cell) = self.lstm(packed, hidden)\n",
    "        hidden = torch.cat((hidden[0], hidden[1]), dim=1)\n",
    "        output, output_length = nn.utils.rnn.pad_packed_sequence(output)\n",
    "        output = self.sigmoid(self.linear(hidden))\n",
    "        return output, hidden\n",
    "    \n",
    "    def initHidden(self):\n",
    "        return (torch.zeros(2, self.batch_size,self.hidden_size), torch.zeros(2, self.batch_size,self.hidden_size))\n",
    "\n",
    "class LSTM(nn.Module):\n",
    "    def __init__(self, input_size, hidden_size, batch_size):\n",
    "        super(LSTM, self).__init__()\n",
    "        self.hidden_size = hidden_size\n",
    "        self.batch_size = batch_size\n",
    "        self.lstm = nn.LSTM(input_size, hidden_size)\n",
    "        self.linear = nn.Linear(hidden_size, 1)\n",
    "        self.sigmoid = nn.Sigmoid()\n",
    "        \n",
    "    def forward(self, input, input_length, hidden):\n",
    "        packed = nn.utils.rnn.pack_padded_sequence(input, input_length)\n",
    "        output, (hidden, cell) = self.lstm(packed, hidden)\n",
    "        output, output_length = nn.utils.rnn.pad_packed_sequence(output)\n",
    "        output = self.sigmoid(self.linear(hidden))\n",
    "        return output, hidden\n",
    "    \n",
    "    def initHidden(self):\n",
    "        return (torch.zeros(1, self.batch_size,self.hidden_size), torch.zeros(1, self.batch_size,self.hidden_size))\n",
    "    \n",
    "def _read_file(fpath):\n",
    "    with open(fpath) as fd:\n",
    "        for line in fd:\n",
    "            yield line\n",
    "                \n",
    "def load_data(reader, bc, batch_size=8):\n",
    "    input_length = []\n",
    "    input_text = []\n",
    "    target = []\n",
    "    for i in range(batch_size):\n",
    "        try:\n",
    "            data = json.loads(reader.next())\n",
    "        except StopIteration:\n",
    "            break\n",
    "        ret = data['result_dict']\n",
    "        keys = sorted(ret.keys())       ##  文本按照时间排序，正序\n",
    "        sample = []\n",
    "        for k in keys:\n",
    "            if ret[k].strip() == '':\n",
    "                continue\n",
    "            sample.append(ret[k])\n",
    "        #input_text.append([len(sample[-50:]), sample[-50:], data['label']])        ##  序列长度为200时训练不work，尝试长度变为50\n",
    "        input_text.append([len(sample), sample, data['label']])        \n",
    "\n",
    "    input_text.sort(key=lambda x: x[0], reverse=True)      ##  padding按长度排序，\n",
    "    input_length = [x[0] for x in input_text]\n",
    "    target = torch.tensor([int(x[2]) for x in input_text]).float().unsqueeze(1)\n",
    "    input_text = [x[1] for x in input_text]\n",
    "    input_vec = [get_vector(text_list, bc) for text_list in input_text]\n",
    "    input_vec = [vector_padding(vec_array) for vec_array in input_vec]\n",
    "    #input_tensor = torch.from_numpy(np.array(input_vec))\n",
    "    #input_tensor = input_tensor.transpose(0,1).float()\n",
    "    input_tensor = torch.from_numpy(input_vec[0]).float()        ##  （200， 130， 768） for  textcnn\n",
    "    return input_tensor, input_length, target\n",
    "\n",
    "def get_vector(text_list, bertclient):\n",
    "    vec_array = bertclient.encode(text_list)\n",
    "    return vec_array[:, 1:-1, :]\n",
    "\n",
    "def vector_padding(input_vec):\n",
    "    length = 200 - input_vec.shape[0]\n",
    "    #length = 50 - input_vec.shape[0]\n",
    "    #input_vec = np.concatenate((input_vec,np.zeros((length, 768))))\n",
    "    input_vec = np.concatenate((input_vec,np.zeros((length, 128, 768))))        ## padding 词向量\n",
    "    return input_vec\n",
    "\n",
    "INPUT_SIZE = 768\n",
    "HIDDEN_SIZE = 256\n",
    "BATCH_SIZE = 1\n",
    "TOTAL_NUM = 96955\n",
    "OUT_CHANNEL = 100\n",
    "KERNEL_SIZE = [2, 3, 5]\n",
    "IS_VALI = False\n",
    "\n",
    "def validation(model, criterion, bc):\n",
    "    fpath = 'origin_data/vali_sms.txt'\n",
    "    vbatch = 128\n",
    "    reader = _reader(fpath)\n",
    "    with torch.no_grade:\n",
    "        input_tensor, input_length, target_tensor = load_data(reader, bc, vbatch)\n",
    "        hidden = (torch.zeros(1, vbatch, HIDDEN_SIZE), torch.zeros(1, vbatch, HIDDEN_SIZE))\n",
    "        output, hidden = model.forward(input_tensor, input_length, hidden)\n",
    "        loss = criterion(output, target_tensor)\n",
    "        auc = roc_auc_score(output.numpy(), target_tensor.numpy())\n",
    "        return loss, auc\n",
    "\n",
    "def trainIter(n_iters, print_every=1, lr=0.001, mode='lstm'):\n",
    "    print_loss = 0\n",
    "    if mode == 'lstm':\n",
    "        model = LSTM(INPUT_SIZE, HIDDEN_SIZE, BATCH_SIZE)\n",
    "    elif mode == 'textcnn':\n",
    "        model = TextCNN(INPUT_SIZE, OUT_CHANNEL, KERNEL_SIZE)\n",
    "    optimizer = optim.Adam(model.parameters(), lr=lr)\n",
    "    #optimizer = optim.SGD(model.parameters(), lr=lr, momentum=0.8)\n",
    "    criterion = nn.BCELoss()      ##  用于二分类的损失函数，需手动加sigmoid\n",
    "    #criterion = nn.CrossEntropyLoss()\n",
    "    bc = BertClient()\n",
    "    reader = _read_file('origin_data/train_sms.txt')\n",
    "    start = time.time()\n",
    "    outputs = []\n",
    "    targets = []\n",
    "    writer = SummaryWriter('/data/home/wangyuliang/logs/tensorboardlogger/')\n",
    "    \n",
    "    for epoch in range(1, n_iters+1):\n",
    "        for i in range(1, TOTAL_NUM/BATCH_SIZE+1):\n",
    "            input_tensor, input_length, target_tensor = load_data(reader, bc, BATCH_SIZE)\n",
    "            load_time = time.time() - start\n",
    "            #loss, output = train(input_tensor, input_length, target_tensor, model, optimizer, criterion)\n",
    "            loss, output = textCNN_train(input_tensor, target_tensor, model, optimizer, criterion)\n",
    "            writer.add_scalar('train/textCNN_loss', loss, i)\n",
    "            writer.flush()\n",
    "            print_loss += loss\n",
    "            outputs.extend(output.detach().numpy().tolist())\n",
    "            targets.extend(target_tensor.numpy().tolist())\n",
    "            auc = '--'\n",
    "            if i % print_every == 0:\n",
    "                loss_avg = print_loss / print_every\n",
    "                #auc = roc_auc_score(np.array(targets), np.array(outputs))\n",
    "                #print targets\n",
    "                outputs = []\n",
    "                targets = []\n",
    "                print_loss = 0\n",
    "                if IS_VALI:\n",
    "                    vali_loss, vali_auc = validation(model, criterion, bc)\n",
    "                    print '=====>epoch:', epoch, ' batch:', i, ' train loss:',loss_avg, ' train auc:', auc, ' val loss:', vali_loss, ' vali auc:', vali_auc, ' cost: %.2fs'% (time.time() - start)\n",
    "                else:\n",
    "                    print '=====>epoch:', epoch, ' batch:', i, ' loss:',loss_avg, ' auc:', auc, ' label:', target_tensor[0], ' cost: %.2fs'% (time.time()-start), ' load cost: %.2fs'% (load_time)\n",
    "                start = time.time()\n",
    "                \n",
    "def train(input_tensor, input_length, labels, model, optimizer, criterion):\n",
    "    hidden = model.initHidden()\n",
    "    optimizer.zero_grad()\n",
    "    output, hidden = model.forward(input_tensor, input_length, hidden)\n",
    "    loss = criterion(output, labels)\n",
    "    loss.backward()\n",
    "    optimizer.step()\n",
    "    #return loss.item() / sum(input_length), output\n",
    "    return loss.item(), output"
   ]
  },
  {
   "cell_type": "code",
   "execution_count": 126,
   "metadata": {
    "scrolled": true
   },
   "outputs": [
    {
     "name": "stdout",
     "output_type": "stream",
     "text": [
      "=====>epoch: 1  batch: 1  loss: 0.695195734501  auc: --  label: tensor([0.])  cost: 136.83s  load cost: 136.62s\n",
      "=====>epoch: 1  batch: 2  loss: 0.695922374725  auc: --  label: tensor([1.])  cost: 1.99s  load cost: 1.48s\n",
      "=====>epoch: 1  batch: 3  loss: 0.779644370079  auc: --  label: tensor([1.])  cost: 85.62s  load cost: 85.25s\n",
      "=====>epoch: 1  batch: 4  loss: 0.671369194984  auc: --  label: tensor([0.])  cost: 75.58s  load cost: 75.17s\n",
      "=====>epoch: 1  batch: 5  loss: 0.69858032465  auc: --  label: tensor([0.])  cost: 76.11s  load cost: 75.70s\n",
      "=====>epoch: 1  batch: 6  loss: 0.640041470528  auc: --  label: tensor([0.])  cost: 82.55s  load cost: 82.15s\n",
      "=====>epoch: 1  batch: 7  loss: 0.705514550209  auc: --  label: tensor([1.])  cost: 78.89s  load cost: 78.34s\n",
      "=====>epoch: 1  batch: 8  loss: 0.63067907095  auc: --  label: tensor([0.])  cost: 82.44s  load cost: 82.18s\n",
      "=====>epoch: 1  batch: 9  loss: 0.783275127411  auc: --  label: tensor([1.])  cost: 65.33s  load cost: 64.94s\n",
      "=====>epoch: 1  batch: 10  loss: 0.723205506802  auc: --  label: tensor([1.])  cost: 5.00s  load cost: 4.65s\n",
      "=====>epoch: 1  batch: 11  loss: 0.722031712532  auc: --  label: tensor([1.])  cost: 2.53s  load cost: 2.41s\n",
      "=====>epoch: 1  batch: 12  loss: 0.593871712685  auc: --  label: tensor([1.])  cost: 82.06s  load cost: 81.55s\n",
      "=====>epoch: 1  batch: 13  loss: 0.663259208202  auc: --  label: tensor([0.])  cost: 74.58s  load cost: 74.22s\n",
      "=====>epoch: 1  batch: 14  loss: 0.702788889408  auc: --  label: tensor([1.])  cost: 36.20s  load cost: 35.74s\n",
      "=====>epoch: 1  batch: 15  loss: 0.663956522942  auc: --  label: tensor([0.])  cost: 76.86s  load cost: 76.35s\n",
      "=====>epoch: 1  batch: 16  loss: 0.619529008865  auc: --  label: tensor([0.])  cost: 81.93s  load cost: 81.54s\n",
      "=====>epoch: 1  batch: 17  loss: 0.639674842358  auc: --  label: tensor([0.])  cost: 81.64s  load cost: 81.57s\n",
      "=====>epoch: 1  batch: 18  loss: 0.738983154297  auc: --  label: tensor([1.])  cost: 7.88s  load cost: 7.57s\n",
      "=====>epoch: 1  batch: 19  loss: 0.64345240593  auc: --  label: tensor([0.])  cost: 14.38s  load cost: 14.27s\n",
      "=====>epoch: 1  batch: 20  loss: 0.848999619484  auc: --  label: tensor([1.])  cost: 14.71s  load cost: 14.60s\n",
      "=====>epoch: 1  batch: 21  loss: 0.667808055878  auc: --  label: tensor([0.])  cost: 77.28s  load cost: 76.91s\n",
      "=====>epoch: 1  batch: 22  loss: 0.68805873394  auc: --  label: tensor([1.])  cost: 79.70s  load cost: 79.38s\n",
      "=====>epoch: 1  batch: 23  loss: 0.672965884209  auc: --  label: tensor([1.])  cost: 15.13s  load cost: 14.86s\n",
      "=====>epoch: 1  batch: 24  loss: 0.589086532593  auc: --  label: tensor([0.])  cost: 77.45s  load cost: 77.04s\n",
      "=====>epoch: 1  batch: 25  loss: 0.721110284328  auc: --  label: tensor([1.])  cost: 85.96s  load cost: 85.44s\n",
      "=====>epoch: 1  batch: 26  loss: 0.802217125893  auc: --  label: tensor([1.])  cost: 15.28s  load cost: 14.98s\n",
      "=====>epoch: 1  batch: 27  loss: 0.686466157436  auc: --  label: tensor([0.])  cost: 10.30s  load cost: 9.90s\n",
      "=====>epoch: 1  batch: 28  loss: 0.628230392933  auc: --  label: tensor([1.])  cost: 88.80s  load cost: 88.44s\n",
      "=====>epoch: 1  batch: 29  loss: 0.649147987366  auc: --  label: tensor([0.])  cost: 14.49s  load cost: 14.16s\n",
      "=====>epoch: 1  batch: 30  loss: 0.717098593712  auc: --  label: tensor([0.])  cost: 6.70s  load cost: 6.40s\n",
      "=====>epoch: 1  batch: 31  loss: 0.574015915394  auc: --  label: tensor([0.])  cost: 14.47s  load cost: 14.12s\n",
      "=====>epoch: 1  batch: 32  loss: 0.694295465946  auc: --  label: tensor([1.])  cost: 2.30s  load cost: 2.20s\n",
      "=====>epoch: 1  batch: 33  loss: 0.70778542757  auc: --  label: tensor([0.])  cost: 6.78s  load cost: 6.62s\n",
      "=====>epoch: 1  batch: 34  loss: 0.654666543007  auc: --  label: tensor([0.])  cost: 15.22s  load cost: 14.70s\n",
      "=====>epoch: 1  batch: 35  loss: 0.719712674618  auc: --  label: tensor([1.])  cost: 3.26s  load cost: 2.91s\n",
      "=====>epoch: 1  batch: 36  loss: 0.879805326462  auc: --  label: tensor([1.])  cost: 66.29s  load cost: 65.92s\n",
      "=====>epoch: 1  batch: 37  loss: 0.678132593632  auc: --  label: tensor([0.])  cost: 4.70s  load cost: 4.23s\n",
      "=====>epoch: 1  batch: 38  loss: 0.639656841755  auc: --  label: tensor([0.])  cost: 79.05s  load cost: 78.49s\n",
      "=====>epoch: 1  batch: 39  loss: 0.639838457108  auc: --  label: tensor([0.])  cost: 79.48s  load cost: 79.10s\n",
      "=====>epoch: 1  batch: 40  loss: 0.738539338112  auc: --  label: tensor([0.])  cost: 80.81s  load cost: 80.41s\n",
      "=====>epoch: 1  batch: 41  loss: 0.776005923748  auc: --  label: tensor([1.])  cost: 48.25s  load cost: 47.79s\n",
      "=====>epoch: 1  batch: 42  loss: 0.695879995823  auc: --  label: tensor([0.])  cost: 9.46s  load cost: 9.25s\n",
      "=====>epoch: 1  batch: 43  loss: 0.704743862152  auc: --  label: tensor([0.])  cost: 80.74s  load cost: 80.41s\n",
      "=====>epoch: 1  batch: 44  loss: 0.569444656372  auc: --  label: tensor([0.])  cost: 76.90s  load cost: 76.47s\n",
      "=====>epoch: 1  batch: 45  loss: 0.684077978134  auc: --  label: tensor([0.])  cost: 24.90s  load cost: 24.55s\n",
      "=====>epoch: 1  batch: 46  loss: 0.854121625423  auc: --  label: tensor([1.])  cost: 77.38s  load cost: 77.27s\n",
      "=====>epoch: 1  batch: 47  loss: 0.523552417755  auc: --  label: tensor([0.])  cost: 81.92s  load cost: 81.45s\n",
      "=====>epoch: 1  batch: 48  loss: 0.596230149269  auc: --  label: tensor([0.])  cost: 5.44s  load cost: 4.92s\n",
      "=====>epoch: 1  batch: 49  loss: 0.832143366337  auc: --  label: tensor([1.])  cost: 2.23s  load cost: 1.76s\n",
      "=====>epoch: 1  batch: 50  loss: 0.569899201393  auc: --  label: tensor([0.])  cost: 81.77s  load cost: 81.40s\n",
      "=====>epoch: 1  batch: 51  loss: 0.917491734028  auc: --  label: tensor([1.])  cost: 59.55s  load cost: 59.33s\n",
      "=====>epoch: 1  batch: 52  loss: 0.947748243809  auc: --  label: tensor([1.])  cost: 82.98s  load cost: 82.60s\n",
      "=====>epoch: 1  batch: 53  loss: 0.569486260414  auc: --  label: tensor([0.])  cost: 15.88s  load cost: 15.56s\n",
      "=====>epoch: 1  batch: 54  loss: 0.807672679424  auc: --  label: tensor([1.])  cost: 76.07s  load cost: 75.87s\n",
      "=====>epoch: 1  batch: 55  loss: 0.532129764557  auc: --  label: tensor([0.])  cost: 68.26s  load cost: 67.88s\n",
      "=====>epoch: 1  batch: 56  loss: 0.899589002132  auc: --  label: tensor([1.])  cost: 80.65s  load cost: 80.25s\n",
      "=====>epoch: 1  batch: 57  loss: 0.456005036831  auc: --  label: tensor([0.])  cost: 85.34s  load cost: 84.93s\n",
      "=====>epoch: 1  batch: 58  loss: 0.535462141037  auc: --  label: tensor([0.])  cost: 13.15s  load cost: 12.72s\n",
      "=====>epoch: 1  batch: 59  loss: 0.521698355675  auc: --  label: tensor([0.])  cost: 9.77s  load cost: 9.49s\n",
      "=====>epoch: 1  batch: 60  loss: 0.854992747307  auc: --  label: tensor([1.])  cost: 76.33s  load cost: 75.81s\n",
      "=====>epoch: 1  batch: 61  loss: 0.896842479706  auc: --  label: tensor([1.])  cost: 76.22s  load cost: 75.81s\n",
      "=====>epoch: 1  batch: 62  loss: 0.49661898613  auc: --  label: tensor([0.])  cost: 1.70s  load cost: 1.38s\n",
      "=====>epoch: 1  batch: 63  loss: 0.869192957878  auc: --  label: tensor([1.])  cost: 12.31s  load cost: 11.94s\n",
      "=====>epoch: 1  batch: 64  loss: 0.923451721668  auc: --  label: tensor([1.])  cost: 53.85s  load cost: 53.49s\n",
      "=====>epoch: 1  batch: 65  loss: 0.92730820179  auc: --  label: tensor([1.])  cost: 2.22s  load cost: 1.90s\n",
      "=====>epoch: 1  batch: 66  loss: 0.589488685131  auc: --  label: tensor([0.])  cost: 2.28s  load cost: 2.20s\n",
      "=====>epoch: 1  batch: 67  loss: 0.560218632221  auc: --  label: tensor([0.])  cost: 1.68s  load cost: 1.36s\n",
      "=====>epoch: 1  batch: 68  loss: 0.589917719364  auc: --  label: tensor([0.])  cost: 50.49s  load cost: 50.13s\n",
      "=====>epoch: 1  batch: 69  loss: 0.639568269253  auc: --  label: tensor([0.])  cost: 76.65s  load cost: 76.44s\n",
      "=====>epoch: 1  batch: 70  loss: 0.612152576447  auc: --  label: tensor([0.])  cost: 80.95s  load cost: 80.52s\n",
      "=====>epoch: 1  batch: 71  loss: 0.595559418201  auc: --  label: tensor([0.])  cost: 79.31s  load cost: 79.20s\n",
      "=====>epoch: 1  batch: 72  loss: 0.561488568783  auc: --  label: tensor([0.])  cost: 79.90s  load cost: 79.43s\n",
      "=====>epoch: 1  batch: 73  loss: 0.487223535776  auc: --  label: tensor([0.])  cost: 12.57s  load cost: 12.22s\n",
      "=====>epoch: 1  batch: 74  loss: 0.856796622276  auc: --  label: tensor([1.])  cost: 76.14s  load cost: 75.54s\n",
      "=====>epoch: 1  batch: 75  loss: 0.497308820486  auc: --  label: tensor([0.])  cost: 75.48s  load cost: 75.08s\n"
     ]
    },
    {
     "name": "stdout",
     "output_type": "stream",
     "text": [
      "=====>epoch: 1  batch: 76  loss: 0.824197947979  auc: --  label: tensor([1.])  cost: 1.90s  load cost: 1.52s\n",
      "=====>epoch: 1  batch: 77  loss: 0.556210041046  auc: --  label: tensor([0.])  cost: 61.80s  load cost: 61.60s\n",
      "=====>epoch: 1  batch: 78  loss: 0.49983549118  auc: --  label: tensor([0.])  cost: 1.67s  load cost: 1.30s\n",
      "=====>epoch: 1  batch: 79  loss: 0.859706044197  auc: --  label: tensor([1.])  cost: 78.03s  load cost: 77.66s\n",
      "=====>epoch: 1  batch: 80  loss: 0.485785424709  auc: --  label: tensor([0.])  cost: 75.66s  load cost: 75.09s\n",
      "=====>epoch: 1  batch: 81  loss: 0.517024993896  auc: --  label: tensor([0.])  cost: 80.09s  load cost: 79.56s\n",
      "=====>epoch: 1  batch: 82  loss: 0.919762969017  auc: --  label: tensor([1.])  cost: 78.05s  load cost: 77.63s\n",
      "=====>epoch: 1  batch: 83  loss: 0.922472178936  auc: --  label: tensor([1.])  cost: 51.73s  load cost: 51.35s\n",
      "=====>epoch: 1  batch: 84  loss: 0.449674010277  auc: --  label: tensor([0.])  cost: 77.95s  load cost: 77.60s\n"
     ]
    },
    {
     "ename": "KeyboardInterrupt",
     "evalue": "",
     "output_type": "error",
     "traceback": [
      "\u001b[0;31m---------------------------------------------------------------------------\u001b[0m",
      "\u001b[0;31mKeyboardInterrupt\u001b[0m                         Traceback (most recent call last)",
      "\u001b[0;32m<ipython-input-126-e673dde3a4e5>\u001b[0m in \u001b[0;36m<module>\u001b[0;34m()\u001b[0m\n\u001b[0;32m----> 1\u001b[0;31m \u001b[0mtrainIter\u001b[0m\u001b[0;34m(\u001b[0m\u001b[0;36m10\u001b[0m\u001b[0;34m,\u001b[0m \u001b[0mmode\u001b[0m\u001b[0;34m=\u001b[0m\u001b[0;34m'textcnn'\u001b[0m\u001b[0;34m)\u001b[0m\u001b[0;34m\u001b[0m\u001b[0m\n\u001b[0m",
      "\u001b[0;32m<ipython-input-125-ffe4a9787e76>\u001b[0m in \u001b[0;36mtrainIter\u001b[0;34m(n_iters, print_every, lr, mode)\u001b[0m\n\u001b[1;32m    123\u001b[0m     \u001b[0;32mfor\u001b[0m \u001b[0mepoch\u001b[0m \u001b[0;32min\u001b[0m \u001b[0mrange\u001b[0m\u001b[0;34m(\u001b[0m\u001b[0;36m1\u001b[0m\u001b[0;34m,\u001b[0m \u001b[0mn_iters\u001b[0m\u001b[0;34m+\u001b[0m\u001b[0;36m1\u001b[0m\u001b[0;34m)\u001b[0m\u001b[0;34m:\u001b[0m\u001b[0;34m\u001b[0m\u001b[0m\n\u001b[1;32m    124\u001b[0m         \u001b[0;32mfor\u001b[0m \u001b[0mi\u001b[0m \u001b[0;32min\u001b[0m \u001b[0mrange\u001b[0m\u001b[0;34m(\u001b[0m\u001b[0;36m1\u001b[0m\u001b[0;34m,\u001b[0m \u001b[0mTOTAL_NUM\u001b[0m\u001b[0;34m/\u001b[0m\u001b[0mBATCH_SIZE\u001b[0m\u001b[0;34m+\u001b[0m\u001b[0;36m1\u001b[0m\u001b[0;34m)\u001b[0m\u001b[0;34m:\u001b[0m\u001b[0;34m\u001b[0m\u001b[0m\n\u001b[0;32m--> 125\u001b[0;31m             \u001b[0minput_tensor\u001b[0m\u001b[0;34m,\u001b[0m \u001b[0minput_length\u001b[0m\u001b[0;34m,\u001b[0m \u001b[0mtarget_tensor\u001b[0m \u001b[0;34m=\u001b[0m \u001b[0mload_data\u001b[0m\u001b[0;34m(\u001b[0m\u001b[0mreader\u001b[0m\u001b[0;34m,\u001b[0m \u001b[0mbc\u001b[0m\u001b[0;34m,\u001b[0m \u001b[0mBATCH_SIZE\u001b[0m\u001b[0;34m)\u001b[0m\u001b[0;34m\u001b[0m\u001b[0m\n\u001b[0m\u001b[1;32m    126\u001b[0m             \u001b[0mload_time\u001b[0m \u001b[0;34m=\u001b[0m \u001b[0mtime\u001b[0m\u001b[0;34m.\u001b[0m\u001b[0mtime\u001b[0m\u001b[0;34m(\u001b[0m\u001b[0;34m)\u001b[0m \u001b[0;34m-\u001b[0m \u001b[0mstart\u001b[0m\u001b[0;34m\u001b[0m\u001b[0m\n\u001b[1;32m    127\u001b[0m             \u001b[0;31m#loss, output = train(input_tensor, input_length, target_tensor, model, optimizer, criterion)\u001b[0m\u001b[0;34m\u001b[0m\u001b[0;34m\u001b[0m\u001b[0m\n",
      "\u001b[0;32m<ipython-input-125-ffe4a9787e76>\u001b[0m in \u001b[0;36mload_data\u001b[0;34m(reader, bc, batch_size)\u001b[0m\n\u001b[1;32m     66\u001b[0m     \u001b[0mtarget\u001b[0m \u001b[0;34m=\u001b[0m \u001b[0mtorch\u001b[0m\u001b[0;34m.\u001b[0m\u001b[0mtensor\u001b[0m\u001b[0;34m(\u001b[0m\u001b[0;34m[\u001b[0m\u001b[0mint\u001b[0m\u001b[0;34m(\u001b[0m\u001b[0mx\u001b[0m\u001b[0;34m[\u001b[0m\u001b[0;36m2\u001b[0m\u001b[0;34m]\u001b[0m\u001b[0;34m)\u001b[0m \u001b[0;32mfor\u001b[0m \u001b[0mx\u001b[0m \u001b[0;32min\u001b[0m \u001b[0minput_text\u001b[0m\u001b[0;34m]\u001b[0m\u001b[0;34m)\u001b[0m\u001b[0;34m.\u001b[0m\u001b[0mfloat\u001b[0m\u001b[0;34m(\u001b[0m\u001b[0;34m)\u001b[0m\u001b[0;34m.\u001b[0m\u001b[0munsqueeze\u001b[0m\u001b[0;34m(\u001b[0m\u001b[0;36m1\u001b[0m\u001b[0;34m)\u001b[0m\u001b[0;34m\u001b[0m\u001b[0m\n\u001b[1;32m     67\u001b[0m     \u001b[0minput_text\u001b[0m \u001b[0;34m=\u001b[0m \u001b[0;34m[\u001b[0m\u001b[0mx\u001b[0m\u001b[0;34m[\u001b[0m\u001b[0;36m1\u001b[0m\u001b[0;34m]\u001b[0m \u001b[0;32mfor\u001b[0m \u001b[0mx\u001b[0m \u001b[0;32min\u001b[0m \u001b[0minput_text\u001b[0m\u001b[0;34m]\u001b[0m\u001b[0;34m\u001b[0m\u001b[0m\n\u001b[0;32m---> 68\u001b[0;31m     \u001b[0minput_vec\u001b[0m \u001b[0;34m=\u001b[0m \u001b[0;34m[\u001b[0m\u001b[0mget_vector\u001b[0m\u001b[0;34m(\u001b[0m\u001b[0mtext_list\u001b[0m\u001b[0;34m,\u001b[0m \u001b[0mbc\u001b[0m\u001b[0;34m)\u001b[0m \u001b[0;32mfor\u001b[0m \u001b[0mtext_list\u001b[0m \u001b[0;32min\u001b[0m \u001b[0minput_text\u001b[0m\u001b[0;34m]\u001b[0m\u001b[0;34m\u001b[0m\u001b[0m\n\u001b[0m\u001b[1;32m     69\u001b[0m     \u001b[0minput_vec\u001b[0m \u001b[0;34m=\u001b[0m \u001b[0;34m[\u001b[0m\u001b[0mvector_padding\u001b[0m\u001b[0;34m(\u001b[0m\u001b[0mvec_array\u001b[0m\u001b[0;34m)\u001b[0m \u001b[0;32mfor\u001b[0m \u001b[0mvec_array\u001b[0m \u001b[0;32min\u001b[0m \u001b[0minput_vec\u001b[0m\u001b[0;34m]\u001b[0m\u001b[0;34m\u001b[0m\u001b[0m\n\u001b[1;32m     70\u001b[0m     \u001b[0;31m#input_tensor = torch.from_numpy(np.array(input_vec))\u001b[0m\u001b[0;34m\u001b[0m\u001b[0;34m\u001b[0m\u001b[0m\n",
      "\u001b[0;32m<ipython-input-125-ffe4a9787e76>\u001b[0m in \u001b[0;36mget_vector\u001b[0;34m(text_list, bertclient)\u001b[0m\n\u001b[1;32m     74\u001b[0m \u001b[0;34m\u001b[0m\u001b[0m\n\u001b[1;32m     75\u001b[0m \u001b[0;32mdef\u001b[0m \u001b[0mget_vector\u001b[0m\u001b[0;34m(\u001b[0m\u001b[0mtext_list\u001b[0m\u001b[0;34m,\u001b[0m \u001b[0mbertclient\u001b[0m\u001b[0;34m)\u001b[0m\u001b[0;34m:\u001b[0m\u001b[0;34m\u001b[0m\u001b[0m\n\u001b[0;32m---> 76\u001b[0;31m     \u001b[0mvec_array\u001b[0m \u001b[0;34m=\u001b[0m \u001b[0mbertclient\u001b[0m\u001b[0;34m.\u001b[0m\u001b[0mencode\u001b[0m\u001b[0;34m(\u001b[0m\u001b[0mtext_list\u001b[0m\u001b[0;34m)\u001b[0m\u001b[0;34m\u001b[0m\u001b[0m\n\u001b[0m\u001b[1;32m     77\u001b[0m     \u001b[0;32mreturn\u001b[0m \u001b[0mvec_array\u001b[0m\u001b[0;34m[\u001b[0m\u001b[0;34m:\u001b[0m\u001b[0;34m,\u001b[0m \u001b[0;36m1\u001b[0m\u001b[0;34m:\u001b[0m\u001b[0;34m-\u001b[0m\u001b[0;36m1\u001b[0m\u001b[0;34m,\u001b[0m \u001b[0;34m:\u001b[0m\u001b[0;34m]\u001b[0m\u001b[0;34m\u001b[0m\u001b[0m\n\u001b[1;32m     78\u001b[0m \u001b[0;34m\u001b[0m\u001b[0m\n",
      "\u001b[0;32m/data/home/wangyuliang/anaconda2/lib/python2.7/site-packages/bert_serving/client/__init__.pyc\u001b[0m in \u001b[0;36marg_wrapper\u001b[0;34m(self, *args, **kwargs)\u001b[0m\n\u001b[1;32m    204\u001b[0m                 \u001b[0mself\u001b[0m\u001b[0;34m.\u001b[0m\u001b[0mreceiver\u001b[0m\u001b[0;34m.\u001b[0m\u001b[0msetsockopt\u001b[0m\u001b[0;34m(\u001b[0m\u001b[0mzmq\u001b[0m\u001b[0;34m.\u001b[0m\u001b[0mRCVTIMEO\u001b[0m\u001b[0;34m,\u001b[0m \u001b[0mself\u001b[0m\u001b[0;34m.\u001b[0m\u001b[0mtimeout\u001b[0m\u001b[0;34m)\u001b[0m\u001b[0;34m\u001b[0m\u001b[0m\n\u001b[1;32m    205\u001b[0m             \u001b[0;32mtry\u001b[0m\u001b[0;34m:\u001b[0m\u001b[0;34m\u001b[0m\u001b[0m\n\u001b[0;32m--> 206\u001b[0;31m                 \u001b[0;32mreturn\u001b[0m \u001b[0mfunc\u001b[0m\u001b[0;34m(\u001b[0m\u001b[0mself\u001b[0m\u001b[0;34m,\u001b[0m \u001b[0;34m*\u001b[0m\u001b[0margs\u001b[0m\u001b[0;34m,\u001b[0m \u001b[0;34m**\u001b[0m\u001b[0mkwargs\u001b[0m\u001b[0;34m)\u001b[0m\u001b[0;34m\u001b[0m\u001b[0m\n\u001b[0m\u001b[1;32m    207\u001b[0m             \u001b[0;32mexcept\u001b[0m \u001b[0mzmq\u001b[0m\u001b[0;34m.\u001b[0m\u001b[0merror\u001b[0m\u001b[0;34m.\u001b[0m\u001b[0mAgain\u001b[0m \u001b[0;32mas\u001b[0m \u001b[0m_e\u001b[0m\u001b[0;34m:\u001b[0m\u001b[0;34m\u001b[0m\u001b[0m\n\u001b[1;32m    208\u001b[0m                 t_e = TimeoutError(\n",
      "\u001b[0;32m/data/home/wangyuliang/anaconda2/lib/python2.7/site-packages/bert_serving/client/__init__.pyc\u001b[0m in \u001b[0;36mencode\u001b[0;34m(self, texts, blocking, is_tokenized, show_tokens)\u001b[0m\n\u001b[1;32m    302\u001b[0m         \u001b[0;32mif\u001b[0m \u001b[0;32mnot\u001b[0m \u001b[0mblocking\u001b[0m\u001b[0;34m:\u001b[0m\u001b[0;34m\u001b[0m\u001b[0m\n\u001b[1;32m    303\u001b[0m             \u001b[0;32mreturn\u001b[0m \u001b[0mNone\u001b[0m\u001b[0;34m\u001b[0m\u001b[0m\n\u001b[0;32m--> 304\u001b[0;31m         \u001b[0mr\u001b[0m \u001b[0;34m=\u001b[0m \u001b[0mself\u001b[0m\u001b[0;34m.\u001b[0m\u001b[0m_recv_ndarray\u001b[0m\u001b[0;34m(\u001b[0m\u001b[0mreq_id\u001b[0m\u001b[0;34m)\u001b[0m\u001b[0;34m\u001b[0m\u001b[0m\n\u001b[0m\u001b[1;32m    305\u001b[0m         \u001b[0;32mif\u001b[0m \u001b[0mself\u001b[0m\u001b[0;34m.\u001b[0m\u001b[0mtoken_info_available\u001b[0m \u001b[0;32mand\u001b[0m \u001b[0mshow_tokens\u001b[0m\u001b[0;34m:\u001b[0m\u001b[0;34m\u001b[0m\u001b[0m\n\u001b[1;32m    306\u001b[0m             \u001b[0;32mreturn\u001b[0m \u001b[0mr\u001b[0m\u001b[0;34m.\u001b[0m\u001b[0membedding\u001b[0m\u001b[0;34m,\u001b[0m \u001b[0mr\u001b[0m\u001b[0;34m.\u001b[0m\u001b[0mtokens\u001b[0m\u001b[0;34m\u001b[0m\u001b[0m\n",
      "\u001b[0;32m/data/home/wangyuliang/anaconda2/lib/python2.7/site-packages/bert_serving/client/__init__.pyc\u001b[0m in \u001b[0;36m_recv_ndarray\u001b[0;34m(self, wait_for_req_id)\u001b[0m\n\u001b[1;32m    168\u001b[0m \u001b[0;34m\u001b[0m\u001b[0m\n\u001b[1;32m    169\u001b[0m     \u001b[0;32mdef\u001b[0m \u001b[0m_recv_ndarray\u001b[0m\u001b[0;34m(\u001b[0m\u001b[0mself\u001b[0m\u001b[0;34m,\u001b[0m \u001b[0mwait_for_req_id\u001b[0m\u001b[0;34m=\u001b[0m\u001b[0mNone\u001b[0m\u001b[0;34m)\u001b[0m\u001b[0;34m:\u001b[0m\u001b[0;34m\u001b[0m\u001b[0m\n\u001b[0;32m--> 170\u001b[0;31m         \u001b[0mrequest_id\u001b[0m\u001b[0;34m,\u001b[0m \u001b[0mresponse\u001b[0m \u001b[0;34m=\u001b[0m \u001b[0mself\u001b[0m\u001b[0;34m.\u001b[0m\u001b[0m_recv\u001b[0m\u001b[0;34m(\u001b[0m\u001b[0mwait_for_req_id\u001b[0m\u001b[0;34m)\u001b[0m\u001b[0;34m\u001b[0m\u001b[0m\n\u001b[0m\u001b[1;32m    171\u001b[0m         \u001b[0marr_info\u001b[0m\u001b[0;34m,\u001b[0m \u001b[0marr_val\u001b[0m \u001b[0;34m=\u001b[0m \u001b[0mjsonapi\u001b[0m\u001b[0;34m.\u001b[0m\u001b[0mloads\u001b[0m\u001b[0;34m(\u001b[0m\u001b[0mresponse\u001b[0m\u001b[0;34m[\u001b[0m\u001b[0;36m1\u001b[0m\u001b[0;34m]\u001b[0m\u001b[0;34m)\u001b[0m\u001b[0;34m,\u001b[0m \u001b[0mresponse\u001b[0m\u001b[0;34m[\u001b[0m\u001b[0;36m2\u001b[0m\u001b[0;34m]\u001b[0m\u001b[0;34m\u001b[0m\u001b[0m\n\u001b[1;32m    172\u001b[0m         \u001b[0mX\u001b[0m \u001b[0;34m=\u001b[0m \u001b[0mnp\u001b[0m\u001b[0;34m.\u001b[0m\u001b[0mfrombuffer\u001b[0m\u001b[0;34m(\u001b[0m\u001b[0m_buffer\u001b[0m\u001b[0;34m(\u001b[0m\u001b[0marr_val\u001b[0m\u001b[0;34m)\u001b[0m\u001b[0;34m,\u001b[0m \u001b[0mdtype\u001b[0m\u001b[0;34m=\u001b[0m\u001b[0mstr\u001b[0m\u001b[0;34m(\u001b[0m\u001b[0marr_info\u001b[0m\u001b[0;34m[\u001b[0m\u001b[0;34m'dtype'\u001b[0m\u001b[0;34m]\u001b[0m\u001b[0;34m)\u001b[0m\u001b[0;34m)\u001b[0m\u001b[0;34m\u001b[0m\u001b[0m\n",
      "\u001b[0;32m/data/home/wangyuliang/anaconda2/lib/python2.7/site-packages/bert_serving/client/__init__.pyc\u001b[0m in \u001b[0;36m_recv\u001b[0;34m(self, wait_for_req_id)\u001b[0m\n\u001b[1;32m    151\u001b[0m \u001b[0;34m\u001b[0m\u001b[0m\n\u001b[1;32m    152\u001b[0m                 \u001b[0;31m# receive a response\u001b[0m\u001b[0;34m\u001b[0m\u001b[0;34m\u001b[0m\u001b[0m\n\u001b[0;32m--> 153\u001b[0;31m                 \u001b[0mresponse\u001b[0m \u001b[0;34m=\u001b[0m \u001b[0mself\u001b[0m\u001b[0;34m.\u001b[0m\u001b[0mreceiver\u001b[0m\u001b[0;34m.\u001b[0m\u001b[0mrecv_multipart\u001b[0m\u001b[0;34m(\u001b[0m\u001b[0;34m)\u001b[0m\u001b[0;34m\u001b[0m\u001b[0m\n\u001b[0m\u001b[1;32m    154\u001b[0m                 \u001b[0mrequest_id\u001b[0m \u001b[0;34m=\u001b[0m \u001b[0mint\u001b[0m\u001b[0;34m(\u001b[0m\u001b[0mresponse\u001b[0m\u001b[0;34m[\u001b[0m\u001b[0;34m-\u001b[0m\u001b[0;36m1\u001b[0m\u001b[0;34m]\u001b[0m\u001b[0;34m)\u001b[0m\u001b[0;34m\u001b[0m\u001b[0m\n\u001b[1;32m    155\u001b[0m \u001b[0;34m\u001b[0m\u001b[0m\n",
      "\u001b[0;32m/data/home/wangyuliang/anaconda2/lib/python2.7/site-packages/zmq/sugar/socket.pyc\u001b[0m in \u001b[0;36mrecv_multipart\u001b[0;34m(self, flags, copy, track)\u001b[0m\n\u001b[1;32m    473\u001b[0m             \u001b[0;32mfor\u001b[0m \u001b[0many\u001b[0m \u001b[0mof\u001b[0m \u001b[0mthe\u001b[0m \u001b[0mreasons\u001b[0m \u001b[0;34m:\u001b[0m\u001b[0mfunc\u001b[0m\u001b[0;34m:\u001b[0m\u001b[0;34m`\u001b[0m\u001b[0;34m~\u001b[0m\u001b[0mSocket\u001b[0m\u001b[0;34m.\u001b[0m\u001b[0mrecv\u001b[0m\u001b[0;34m`\u001b[0m \u001b[0mmight\u001b[0m \u001b[0mfail\u001b[0m\u001b[0;34m\u001b[0m\u001b[0m\n\u001b[1;32m    474\u001b[0m         \"\"\"\n\u001b[0;32m--> 475\u001b[0;31m         \u001b[0mparts\u001b[0m \u001b[0;34m=\u001b[0m \u001b[0;34m[\u001b[0m\u001b[0mself\u001b[0m\u001b[0;34m.\u001b[0m\u001b[0mrecv\u001b[0m\u001b[0;34m(\u001b[0m\u001b[0mflags\u001b[0m\u001b[0;34m,\u001b[0m \u001b[0mcopy\u001b[0m\u001b[0;34m=\u001b[0m\u001b[0mcopy\u001b[0m\u001b[0;34m,\u001b[0m \u001b[0mtrack\u001b[0m\u001b[0;34m=\u001b[0m\u001b[0mtrack\u001b[0m\u001b[0;34m)\u001b[0m\u001b[0;34m]\u001b[0m\u001b[0;34m\u001b[0m\u001b[0m\n\u001b[0m\u001b[1;32m    476\u001b[0m         \u001b[0;31m# have first part already, only loop while more to receive\u001b[0m\u001b[0;34m\u001b[0m\u001b[0;34m\u001b[0m\u001b[0m\n\u001b[1;32m    477\u001b[0m         \u001b[0;32mwhile\u001b[0m \u001b[0mself\u001b[0m\u001b[0;34m.\u001b[0m\u001b[0mgetsockopt\u001b[0m\u001b[0;34m(\u001b[0m\u001b[0mzmq\u001b[0m\u001b[0;34m.\u001b[0m\u001b[0mRCVMORE\u001b[0m\u001b[0;34m)\u001b[0m\u001b[0;34m:\u001b[0m\u001b[0;34m\u001b[0m\u001b[0m\n",
      "\u001b[0;32mzmq/backend/cython/socket.pyx\u001b[0m in \u001b[0;36mzmq.backend.cython.socket.Socket.recv\u001b[0;34m()\u001b[0m\n",
      "\u001b[0;32mzmq/backend/cython/socket.pyx\u001b[0m in \u001b[0;36mzmq.backend.cython.socket.Socket.recv\u001b[0;34m()\u001b[0m\n",
      "\u001b[0;32mzmq/backend/cython/socket.pyx\u001b[0m in \u001b[0;36mzmq.backend.cython.socket._recv_copy\u001b[0;34m()\u001b[0m\n",
      "\u001b[0;32m/data/home/wangyuliang/anaconda2/lib/python2.7/site-packages/zmq/backend/cython/checkrc.pxd\u001b[0m in \u001b[0;36mzmq.backend.cython.checkrc._check_rc\u001b[0;34m()\u001b[0m\n\u001b[1;32m     10\u001b[0m     \"\"\"\n\u001b[1;32m     11\u001b[0m     \u001b[0mcdef\u001b[0m \u001b[0mint\u001b[0m \u001b[0merrno\u001b[0m \u001b[0;34m=\u001b[0m \u001b[0mzmq_errno\u001b[0m\u001b[0;34m(\u001b[0m\u001b[0;34m)\u001b[0m\u001b[0;34m\u001b[0m\u001b[0m\n\u001b[0;32m---> 12\u001b[0;31m     \u001b[0mPyErr_CheckSignals\u001b[0m\u001b[0;34m(\u001b[0m\u001b[0;34m)\u001b[0m\u001b[0;34m\u001b[0m\u001b[0m\n\u001b[0m\u001b[1;32m     13\u001b[0m     \u001b[0;32mif\u001b[0m \u001b[0mrc\u001b[0m \u001b[0;34m==\u001b[0m \u001b[0;34m-\u001b[0m\u001b[0;36m1\u001b[0m\u001b[0;34m:\u001b[0m \u001b[0;31m# if rc < -1, it's a bug in libzmq. Should we warn?\u001b[0m\u001b[0;34m\u001b[0m\u001b[0m\n\u001b[1;32m     14\u001b[0m         \u001b[0;32mif\u001b[0m \u001b[0merrno\u001b[0m \u001b[0;34m==\u001b[0m \u001b[0mEINTR\u001b[0m\u001b[0;34m:\u001b[0m\u001b[0;34m\u001b[0m\u001b[0m\n",
      "\u001b[0;31mKeyboardInterrupt\u001b[0m: "
     ]
    }
   ],
   "source": [
    "trainIter(10, mode='textcnn')"
   ]
  },
  {
   "cell_type": "markdown",
   "metadata": {},
   "source": [
    "## textCNN"
   ]
  },
  {
   "cell_type": "code",
   "execution_count": 123,
   "metadata": {},
   "outputs": [],
   "source": [
    "class TextCNN(nn.Module):\n",
    "    def __init__(self, in_channels, out_channels, kernel_sizes, stride=1):\n",
    "        super(TextCNN, self).__init__()\n",
    "        self.in_channels = in_channels\n",
    "        self.out_channels = out_channels\n",
    "        self.step = stride\n",
    "        self.conv1 = nn.Sequential(\n",
    "                        nn.Conv1d(in_channels, 2, 3),\n",
    "                        nn.ReLU()\n",
    "                    )\n",
    "        self.conv2 = nn.Sequential(\n",
    "                        nn.Conv2d(2, 3, 3),\n",
    "                        nn.ReLU(),\n",
    "                        nn.MaxPool2d(2),\n",
    "                        nn.Flatten(),\n",
    "                        nn.Dropout(0.5)\n",
    "        )\n",
    "        self.linear = nn.Linear(675, 1)\n",
    "    \n",
    "    def forward(self, input):\n",
    "        input = self.conv1(input.transpose(1,2))\n",
    "        input = self.conv2(input.transpose(0,1).unsqueeze(0))\n",
    "        out = torch.sigmoid(self.linear(input))\n",
    "        return out\n",
    "    \n",
    "def textCNN_train(input_tensor, labels, model, optimizer, criterion):\n",
    "    optimizer.zero_grad()\n",
    "    out = model.forward(input_tensor)\n",
    "    loss = criterion(out, labels)\n",
    "    loss.backward()\n",
    "    optimizer.step()\n",
    "    return loss.item(), out"
   ]
  },
  {
   "cell_type": "code",
   "execution_count": null,
   "metadata": {},
   "outputs": [],
   "source": []
  },
  {
   "cell_type": "code",
   "execution_count": null,
   "metadata": {},
   "outputs": [],
   "source": []
  }
 ],
 "metadata": {
  "kernelspec": {
   "display_name": "Python 2",
   "language": "python",
   "name": "python2"
  },
  "language_info": {
   "codemirror_mode": {
    "name": "ipython",
    "version": 2
   },
   "file_extension": ".py",
   "mimetype": "text/x-python",
   "name": "python",
   "nbconvert_exporter": "python",
   "pygments_lexer": "ipython2",
   "version": "2.7.15"
  }
 },
 "nbformat": 4,
 "nbformat_minor": 2
}
