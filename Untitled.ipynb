{
 "cells": [
  {
   "cell_type": "code",
   "execution_count": 1,
   "metadata": {},
   "outputs": [],
   "source": [
    "import json"
   ]
  },
  {
   "cell_type": "code",
   "execution_count": 8,
   "metadata": {},
   "outputs": [],
   "source": [
    "train = []\n",
    "for line in open('train.json'):\n",
    "    train.append(json.loads(line))\n",
    "traintable = []\n",
    "for line in open('train.tables.json'):\n",
    "    traintable.append(json.loads(line))"
   ]
  },
  {
   "cell_type": "code",
   "execution_count": 7,
   "metadata": {},
   "outputs": [
    {
     "data": {
      "text/plain": [
       "{u'question': u'\\u4e8c\\u96f6\\u4e00\\u4e5d\\u5e74\\u7b2c\\u56db\\u5468\\u5927\\u9ec4\\u8702\\u548c\\u5bc6\\u5ba4\\u9003\\u751f\\u8fd9\\u4e24\\u90e8\\u5f71\\u7247\\u7684\\u7968\\u623f\\u603b\\u5360\\u6bd4\\u662f\\u591a\\u5c11\\u5440',\n",
       " u'sql': {u'agg': [5],\n",
       "  u'cond_conn_op': 2,\n",
       "  u'conds': [[0, 2, u'\\u5927\\u9ec4\\u8702'],\n",
       "   [0, 2, u'\\u5bc6\\u5ba4\\u9003\\u751f']],\n",
       "  u'sel': [2]},\n",
       " u'table_id': u'4d29d0513aaa11e9b911f40f24344a08'}"
      ]
     },
     "execution_count": 7,
     "metadata": {},
     "output_type": "execute_result"
    }
   ],
   "source": [
    "train[0]"
   ]
  },
  {
   "cell_type": "code",
   "execution_count": 9,
   "metadata": {
    "scrolled": true
   },
   "outputs": [
    {
     "data": {
      "text/plain": [
       "{u'common': u'\\u6570\\u636e\\u6765\\u6e90\\uff1a\\u4e2d\\u56fd\\u6307\\u6570\\u7814\\u7a76\\u9662\\uff0c\\u4e1c\\u5434\\u8bc1\\u5238\\u7814\\u7a76\\u6240 ',\n",
       " u'header': [u'300\\u57ce\\u5e02\\u571f\\u5730\\u51fa\\u8ba9',\n",
       "  u'\\u89c4\\u5212\\u5efa\\u7b51\\u9762\\u79ef(\\u4e07\\u33a1)',\n",
       "  u'\\u6210\\u4ea4\\u697c\\u9762\\u5747\\u4ef7(\\u5143/\\u33a1)',\n",
       "  u'\\u5e73\\u5747\\u6ea2\\u4ef7\\u7387(%)',\n",
       "  u'\\u571f\\u5730\\u51fa\\u8ba9\\u91d1(\\u4ebf\\u5143)',\n",
       "  u'\\u540c\\u6bd4'],\n",
       " u'id': u'43ad6bdc1d7111e988a6f40f24344a08',\n",
       " u'name': u'Table_43ad6bdc1d7111e988a6f40f24344a08',\n",
       " u'rows': [[u'2009\\u5e747\\u6708-2010\\u5e746\\u6708',\n",
       "   168212.0,\n",
       "   1173.0,\n",
       "   40.0,\n",
       "   20056.0,\n",
       "   u'None'],\n",
       "  [u'2010\\u5e747\\u6708-2011\\u5e746\\u6708',\n",
       "   237405.0,\n",
       "   1040.0,\n",
       "   21.0,\n",
       "   24897.0,\n",
       "   24.0],\n",
       "  [u'2011\\u5e747\\u6708-2012\\u5e746\\u6708',\n",
       "   199533.0,\n",
       "   910.0,\n",
       "   6.0,\n",
       "   18479.0,\n",
       "   -26.0],\n",
       "  [u'2012\\u5e747\\u6708-2013\\u5e746\\u6708',\n",
       "   244512.0,\n",
       "   1037.0,\n",
       "   12.0,\n",
       "   25750.0,\n",
       "   39.0],\n",
       "  [u'2013\\u5e747\\u6708-2014\\u5e746\\u6708',\n",
       "   250637.0,\n",
       "   1260.0,\n",
       "   15.0,\n",
       "   32061.0,\n",
       "   25.0],\n",
       "  [u'2014\\u5e747\\u6708-2015\\u5e746\\u6708',\n",
       "   150515.0,\n",
       "   1246.0,\n",
       "   9.0,\n",
       "   18885.0,\n",
       "   -41.0],\n",
       "  [u'2015\\u5e747\\u6708-2016\\u5e746\\u6708',\n",
       "   155643.0,\n",
       "   1567.0,\n",
       "   28.0,\n",
       "   24738.0,\n",
       "   31.0],\n",
       "  [u'2016\\u5e747\\u6708-2017\\u5e746\\u6708',\n",
       "   151707.0,\n",
       "   2202.0,\n",
       "   41.0,\n",
       "   33542.0,\n",
       "   36.0],\n",
       "  [u'2017\\u5e747\\u6708-2018\\u5e746\\u6708',\n",
       "   189395.0,\n",
       "   2368.0,\n",
       "   23.0,\n",
       "   44854.0,\n",
       "   34.0],\n",
       "  [u'2018\\u5e747\\u6708-2019\\u5e746\\u6708E',\n",
       "   198865.0,\n",
       "   2113.0,\n",
       "   u'None',\n",
       "   42020.0,\n",
       "   -6.0],\n",
       "  [u'2018\\u5e747\\u6708-2018\\u5e7411\\u6708',\n",
       "   81564.0,\n",
       "   2113.0,\n",
       "   8.0,\n",
       "   17261.0,\n",
       "   u'None']],\n",
       " u'title': u'\\u88683\\uff1a300\\u57ce\\u5e02\\u571f\\u5730\\u51fa\\u8ba9\\u60c5\\u51b5\\u9884\\u6d4b ',\n",
       " u'types': [u'text', u'real', u'real', u'real', u'real', u'real']}"
      ]
     },
     "execution_count": 9,
     "metadata": {},
     "output_type": "execute_result"
    }
   ],
   "source": [
    "traintable[0]"
   ]
  },
  {
   "cell_type": "code",
   "execution_count": 10,
   "metadata": {},
   "outputs": [
    {
     "data": {
      "text/plain": [
       "(41522, 5013)"
      ]
     },
     "execution_count": 10,
     "metadata": {},
     "output_type": "execute_result"
    }
   ],
   "source": [
    "len(train), len(traintable)"
   ]
  },
  {
   "cell_type": "code",
   "execution_count": null,
   "metadata": {},
   "outputs": [],
   "source": []
  }
 ],
 "metadata": {
  "kernelspec": {
   "display_name": "Python 2",
   "language": "python",
   "name": "python2"
  },
  "language_info": {
   "codemirror_mode": {
    "name": "ipython",
    "version": 2
   },
   "file_extension": ".py",
   "mimetype": "text/x-python",
   "name": "python",
   "nbconvert_exporter": "python",
   "pygments_lexer": "ipython2",
   "version": "2.7.15"
  }
 },
 "nbformat": 4,
 "nbformat_minor": 2
}
